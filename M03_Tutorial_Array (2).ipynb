{
 "cells": [
  {
   "cell_type": "code",
   "execution_count": 1,
   "id": "002d735b-d5f8-4852-8f26-56d2e9ce8213",
   "metadata": {},
   "outputs": [
    {
     "name": "stdout",
     "output_type": "stream",
     "text": [
      "[0, 0, 1, 1, 2, 2]\n",
      "[0, 0, 0, 0, 0, 1, 1, 1, 1, 1, 2, 2]\n"
     ]
    }
   ],
   "source": [
    "def sort012(arr):\n",
    "    low = 0        # pointer for next 0\n",
    "    mid = 0        # current element\n",
    "    high = len(arr) - 1  # pointer for next 2\n",
    "\n",
    "    while mid <= high:\n",
    "        if arr[mid] == 0:\n",
    "            arr[low], arr[mid] = arr[mid], arr[low]  # swap 0 to the front\n",
    "            low += 1\n",
    "            mid += 1\n",
    "        elif arr[mid] == 1:\n",
    "            mid += 1  # 1 is in the right place\n",
    "        else:  # arr[mid] == 2\n",
    "            arr[mid], arr[high] = arr[high], arr[mid]  # swap 2 to the end\n",
    "            high -= 1\n",
    "\n",
    "    return arr\n",
    "\n",
    "# Example usage:\n",
    "arr1 = [0, 1, 2, 0, 1, 2]\n",
    "arr2 = [0, 1, 1, 0, 1, 2, 1, 2, 0, 0, 0, 1]\n",
    "\n",
    "print(sort012(arr1))  # Output: [0, 0, 1, 1, 2, 2]\n",
    "print(sort012(arr2))  # Output: [0, 0, 0, 0, 0, 1, 1, 1, 1, 1, 2, 2]"
   ]
  },
  {
   "cell_type": "code",
   "execution_count": 2,
   "id": "b83f2464-1711-4394-95dd-2f090d570e82",
   "metadata": {},
   "outputs": [],
   "source": [
    "#Binary Search"
   ]
  },
  {
   "cell_type": "code",
   "execution_count": 3,
   "id": "51a1406c-6677-407e-9f4b-65be5c35eef0",
   "metadata": {},
   "outputs": [
    {
     "name": "stdout",
     "output_type": "stream",
     "text": [
      "3\n",
      "-1\n",
      "0\n"
     ]
    }
   ],
   "source": [
    "def binary_search_first(arr, k):\n",
    "    left = 0\n",
    "    right = len(arr) - 1\n",
    "    result = -1  # stores the index of the first occurrence\n",
    "\n",
    "    while left <= right:\n",
    "        mid = (left + right) // 2\n",
    "        if arr[mid] == k:\n",
    "            result = mid\n",
    "            right = mid - 1  # keep searching on the left to find the first occurrence\n",
    "        elif arr[mid] < k:\n",
    "            left = mid + 1\n",
    "        else:\n",
    "            right = mid - 1\n",
    "\n",
    "    return result\n",
    "\n",
    "# Example usage:\n",
    "arr1 = [1, 2, 3, 4, 5]\n",
    "k1 = 4\n",
    "print(binary_search_first(arr1, k1))  # Output: 3\n",
    "\n",
    "arr2 = [11, 22, 33, 44, 55]\n",
    "k2 = 445\n",
    "print(binary_search_first(arr2, k2))  # Output: -1\n",
    "\n",
    "arr3 = [1, 1, 1, 1, 2]\n",
    "k3 = 1\n",
    "print(binary_search_first(arr3, k3))  # Output: 0\n"
   ]
  },
  {
   "cell_type": "code",
   "execution_count": null,
   "id": "f4a1b10a-e9fc-42e8-8723-784da36ece0c",
   "metadata": {},
   "outputs": [],
   "source": []
  }
 ],
 "metadata": {
  "kernelspec": {
   "display_name": "Python [conda env:base] *",
   "language": "python",
   "name": "conda-base-py"
  },
  "language_info": {
   "codemirror_mode": {
    "name": "ipython",
    "version": 3
   },
   "file_extension": ".py",
   "mimetype": "text/x-python",
   "name": "python",
   "nbconvert_exporter": "python",
   "pygments_lexer": "ipython3",
   "version": "3.13.5"
  }
 },
 "nbformat": 4,
 "nbformat_minor": 5
}
