{
 "cells": [
  {
   "cell_type": "code",
   "execution_count": 1,
   "id": "575fb3ca-b14d-4051-92df-07cf1f094bce",
   "metadata": {},
   "outputs": [],
   "source": [
    "#7.4"
   ]
  },
  {
   "cell_type": "code",
   "execution_count": 9,
   "id": "40b47af0-e9c2-449e-a4f9-cf1a3d1e13f6",
   "metadata": {},
   "outputs": [
    {
     "name": "stdout",
     "output_type": "stream",
     "text": [
      "['mozzarella', 'cinderella', 'salmonella']\n"
     ]
    }
   ],
   "source": [
    "things =[ \"mozzarella\" , \"cinderella\" , \"salmonella\"]\n",
    "print(things)"
   ]
  },
  {
   "cell_type": "code",
   "execution_count": null,
   "id": "896a996c-56bb-4cdc-bee5-19c62be4c7a1",
   "metadata": {},
   "outputs": [],
   "source": [
    "#7.5"
   ]
  },
  {
   "cell_type": "code",
   "execution_count": 11,
   "id": "2cef68dd-1622-443d-a06f-acffd5e1cb07",
   "metadata": {},
   "outputs": [
    {
     "name": "stdout",
     "output_type": "stream",
     "text": [
      "Cinderella\n",
      "['mozzarella', 'cinderella', 'salmonella']\n"
     ]
    }
   ],
   "source": [
    "things =[ \"mozzarella\" , \"cinderella\" , \"salmonella\"]\n",
    "print(things[1].capitalize())\n",
    "print (things)"
   ]
  },
  {
   "cell_type": "code",
   "execution_count": 12,
   "id": "2ec7ff17-d8a8-4922-8fd7-a283d804ba44",
   "metadata": {},
   "outputs": [],
   "source": [
    "#7.6"
   ]
  },
  {
   "cell_type": "code",
   "execution_count": 16,
   "id": "97ce3b79-b315-42ac-9388-e447f31fd7b8",
   "metadata": {},
   "outputs": [
    {
     "name": "stdout",
     "output_type": "stream",
     "text": [
      "['MOZZARELLA', 'cinderella', 'salmonella']\n"
     ]
    }
   ],
   "source": [
    "things =[ \"mozzarella\" , \"cinderella\" , \"salmonella\"]\n",
    "things[0]=things[0].upper()\n",
    "print(things)"
   ]
  },
  {
   "cell_type": "code",
   "execution_count": null,
   "id": "e2bdf45c-36a5-44b0-8bf4-50d3fd648444",
   "metadata": {},
   "outputs": [],
   "source": [
    "#7.7"
   ]
  },
  {
   "cell_type": "code",
   "execution_count": 17,
   "id": "65a347b0-c55f-4a26-847d-cef4f2e2ad6f",
   "metadata": {},
   "outputs": [
    {
     "name": "stdout",
     "output_type": "stream",
     "text": [
      "['mozzarella', 'cinderella']\n"
     ]
    }
   ],
   "source": [
    "things =[ \"mozzarella\" , \"cinderella\" , \"salmonella\"]\n",
    "things.remove (\"salmonella\")\n",
    "print(things)"
   ]
  },
  {
   "cell_type": "code",
   "execution_count": 18,
   "id": "c17edbbc-c33e-4213-af70-c5be62ad789e",
   "metadata": {},
   "outputs": [],
   "source": [
    "#9.1"
   ]
  },
  {
   "cell_type": "code",
   "execution_count": 22,
   "id": "a3563e45-8945-488e-ba03-884cb821f923",
   "metadata": {},
   "outputs": [
    {
     "name": "stdout",
     "output_type": "stream",
     "text": [
      "['Harry', 'Ron', 'Hermione']\n"
     ]
    }
   ],
   "source": [
    "def good():\n",
    "    return ['Harry', 'Ron' , 'Hermione']\n",
    "print(good())"
   ]
  },
  {
   "cell_type": "code",
   "execution_count": 23,
   "id": "0eb3893e-3c0b-491c-ae2c-22972a61c6f6",
   "metadata": {},
   "outputs": [],
   "source": [
    "#9.2"
   ]
  },
  {
   "cell_type": "code",
   "execution_count": 24,
   "id": "612e7e0a-58bb-49f9-9a2d-85dc7a2c9938",
   "metadata": {},
   "outputs": [
    {
     "ename": "IndentationError",
     "evalue": "expected an indented block after 'if' statement on line 3 (1079855740.py, line 4)",
     "output_type": "error",
     "traceback": [
      "\u001b[1;36m  Cell \u001b[1;32mIn[24], line 4\u001b[1;36m\u001b[0m\n\u001b[1;33m    yield i\u001b[0m\n\u001b[1;37m    ^\u001b[0m\n\u001b[1;31mIndentationError\u001b[0m\u001b[1;31m:\u001b[0m expected an indented block after 'if' statement on line 3\n"
     ]
    }
   ],
   "source": [
    "def get_odds():\n",
    "    for i in range(10):\n",
    "        if i %2 !=0:\n",
    "        yield i\n",
    "count=0\n",
    "for value in get_odds():\n",
    "    count+=1\n",
    "    if count==3:\n",
    "        print(value)\n",
    "        break\n",
    "    "
   ]
  },
  {
   "cell_type": "code",
   "execution_count": null,
   "id": "35196a2d-f175-42a5-a83e-a9a4fce78c93",
   "metadata": {},
   "outputs": [],
   "source": []
  },
  {
   "cell_type": "code",
   "execution_count": null,
   "id": "63e32c52-c44e-4688-943e-441df4366cd9",
   "metadata": {},
   "outputs": [],
   "source": []
  },
  {
   "cell_type": "code",
   "execution_count": null,
   "id": "6f268daa-8293-44de-92dc-018b4ea6330b",
   "metadata": {},
   "outputs": [],
   "source": []
  },
  {
   "cell_type": "code",
   "execution_count": null,
   "id": "a01f092c-15d7-49b3-bb9b-46cfcc9a62d1",
   "metadata": {},
   "outputs": [],
   "source": []
  },
  {
   "cell_type": "code",
   "execution_count": null,
   "id": "a3d62c49-f6ec-4be1-ad69-edacf234df03",
   "metadata": {},
   "outputs": [],
   "source": []
  },
  {
   "cell_type": "code",
   "execution_count": null,
   "id": "81de3aa7-b1cf-4732-81e7-f02e415446ea",
   "metadata": {},
   "outputs": [],
   "source": []
  },
  {
   "cell_type": "code",
   "execution_count": null,
   "id": "6ae1045c-fd81-494e-9a73-2a0e4569db4b",
   "metadata": {},
   "outputs": [],
   "source": []
  },
  {
   "cell_type": "code",
   "execution_count": null,
   "id": "c647aba7-7d75-4bb6-ab1f-739c10356fcf",
   "metadata": {},
   "outputs": [],
   "source": []
  },
  {
   "cell_type": "code",
   "execution_count": null,
   "id": "17636f6f-b5d7-4569-a85c-832dcc612805",
   "metadata": {},
   "outputs": [],
   "source": []
  },
  {
   "cell_type": "code",
   "execution_count": null,
   "id": "00469491-b6a7-4f68-bdbe-2c6f4e234cb5",
   "metadata": {},
   "outputs": [],
   "source": []
  },
  {
   "cell_type": "code",
   "execution_count": null,
   "id": "76a25046-98d8-4464-9f4b-39df9d2509c9",
   "metadata": {},
   "outputs": [],
   "source": []
  },
  {
   "cell_type": "code",
   "execution_count": null,
   "id": "d4c8f131-1efc-428f-a0c5-d509756cae81",
   "metadata": {},
   "outputs": [],
   "source": []
  },
  {
   "cell_type": "code",
   "execution_count": null,
   "id": "e2a93bcd-d48b-427a-b816-92864a1e0536",
   "metadata": {},
   "outputs": [],
   "source": []
  }
 ],
 "metadata": {
  "kernelspec": {
   "display_name": "Python [conda env:base] *",
   "language": "python",
   "name": "conda-base-py"
  },
  "language_info": {
   "codemirror_mode": {
    "name": "ipython",
    "version": 3
   },
   "file_extension": ".py",
   "mimetype": "text/x-python",
   "name": "python",
   "nbconvert_exporter": "python",
   "pygments_lexer": "ipython3",
   "version": "3.13.5"
  }
 },
 "nbformat": 4,
 "nbformat_minor": 5
}
