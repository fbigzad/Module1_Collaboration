{
 "cells": [
  {
   "cell_type": "code",
   "execution_count": 35,
   "id": "dba679de-7bbc-446e-8b27-7b5ea2c9a469",
   "metadata": {},
   "outputs": [],
   "source": [
    "#4.1\n"
   ]
  },
  {
   "cell_type": "code",
   "execution_count": 12,
   "id": "54116157-377d-447e-bbb3-ac7a833a5f54",
   "metadata": {},
   "outputs": [
    {
     "name": "stdout",
     "output_type": "stream",
     "text": [
      "Too Low\n"
     ]
    }
   ],
   "source": [
    "secret=7\n",
    "guess=5\n",
    "if guess<secret:\n",
    " print (\"Too Low\")\n",
    "elif guess>secret:\n",
    " print (\"Too High\")\n",
    "else:\n",
    " print(\"Just Right\")"
   ]
  },
  {
   "cell_type": "code",
   "execution_count": 17,
   "id": "414fd138-4935-4bb0-b4a8-b62a18cea275",
   "metadata": {},
   "outputs": [],
   "source": [
    "# 4.2"
   ]
  },
  {
   "cell_type": "code",
   "execution_count": 30,
   "id": "591c7da2-81f4-4ea4-8dd2-53808757378b",
   "metadata": {},
   "outputs": [
    {
     "name": "stdout",
     "output_type": "stream",
     "text": [
      "Pea\n"
     ]
    }
   ],
   "source": [
    "small= True\n",
    "green= False\n",
    "if small:\n",
    "    if green:\n",
    "        print(\"Cherry\")\n",
    "    else:\n",
    "        print (\"Pea\")\n",
    "else:\n",
    "    if not small:\n",
    "        if large:\n",
    "            print(\"Watermelon\")\n",
    "        else:\n",
    "            print(\"Pumpkin\")"
   ]
  },
  {
   "cell_type": "code",
   "execution_count": 31,
   "id": "f578bd66-7dd5-42e7-a2c7-799afa1c079c",
   "metadata": {},
   "outputs": [],
   "source": [
    "# The other way to do this:"
   ]
  },
  {
   "cell_type": "code",
   "execution_count": null,
   "id": "3d8dcdd5-9c67-4b12-af95-fc5346178be8",
   "metadata": {},
   "outputs": [],
   "source": [
    "small=True\n",
    "green= False\n",
    "if small and green:\n",
    "    print (\"pea\")\n",
    "elif small and not green:\n",
    "    print(\"Cherry\")\n",
    "elif not small and green:\n",
    "    print (\"Watermelon\")\n",
    "else:\n",
    "    print(\"Pumpkin\")"
   ]
  },
  {
   "cell_type": "code",
   "execution_count": null,
   "id": "35736a9f-98c7-4c50-ab71-110d4f8a52d3",
   "metadata": {},
   "outputs": [],
   "source": []
  },
  {
   "cell_type": "code",
   "execution_count": 36,
   "id": "a32a46b3-31d4-4178-952e-6c6aedc731a1",
   "metadata": {},
   "outputs": [],
   "source": [
    "#6.1"
   ]
  },
  {
   "cell_type": "code",
   "execution_count": 42,
   "id": "290cb1f5-b213-4843-8fa0-d52c3d606026",
   "metadata": {},
   "outputs": [],
   "source": [
    "list=[3,2,1,0]\n",
    "for num in list:\n",
    "    print (num)"
   ]
  },
  {
   "cell_type": "code",
   "execution_count": 44,
   "id": "b53a7bd6-d3b4-44c5-9f79-8a40754fb01c",
   "metadata": {},
   "outputs": [],
   "source": [
    "#6.2"
   ]
  },
  {
   "cell_type": "code",
   "execution_count": 14,
   "id": "8a39f660-2532-467b-8df7-b73a314e09dd",
   "metadata": {},
   "outputs": [
    {
     "name": "stdout",
     "output_type": "stream",
     "text": [
      "oops\n"
     ]
    }
   ],
   "source": [
    "guess_me=7\n",
    "number=8\n",
    "while True:\n",
    "    if number < guess_me:\n",
    "        print(\"too low\")\n",
    "    elif number == guess_me:\n",
    "        print(\"found it!\")\n",
    "        break\n",
    "    else:\n",
    "        print(\"oops\")\n",
    "        break\n",
    "    number += 1"
   ]
  },
  {
   "cell_type": "code",
   "execution_count": 15,
   "id": "028ec7b5-8e6c-4d90-b660-f90bf7f8dc74",
   "metadata": {},
   "outputs": [],
   "source": [
    "#6.3"
   ]
  },
  {
   "cell_type": "code",
   "execution_count": 22,
   "id": "d2f51369-8774-4ca0-9f35-5b3bfbfe08f7",
   "metadata": {},
   "outputs": [
    {
     "name": "stdout",
     "output_type": "stream",
     "text": [
      "Too Low\n",
      "Too Low\n",
      "Too Low\n",
      "Too Low\n",
      "Too Low\n",
      "Found it!\n",
      "oops\n",
      "oops\n",
      "oops\n",
      "oops\n"
     ]
    }
   ],
   "source": [
    "guess_me=5\n",
    "for number in range(10):\n",
    "    if number<guess_me:\n",
    "        print (\"Too Low\")\n",
    "    elif number==guess_me:\n",
    "        print (\"Found it!\")\n",
    "    elif number>guess_me:\n",
    "        print (\"oops\")\n",
    "    else:\n",
    "        break"
   ]
  },
  {
   "cell_type": "code",
   "execution_count": null,
   "id": "44eebcf6-20a2-4fed-893c-063e03718bce",
   "metadata": {},
   "outputs": [],
   "source": []
  },
  {
   "cell_type": "code",
   "execution_count": null,
   "id": "a6a2f732-ede0-4f38-ae53-582f9a524d72",
   "metadata": {},
   "outputs": [],
   "source": []
  },
  {
   "cell_type": "code",
   "execution_count": null,
   "id": "8c93f918-33a3-417b-b0c9-5425023018cb",
   "metadata": {},
   "outputs": [],
   "source": []
  },
  {
   "cell_type": "code",
   "execution_count": null,
   "id": "643b9e32-4946-406d-8706-8b0c06fe7a71",
   "metadata": {},
   "outputs": [],
   "source": []
  },
  {
   "cell_type": "code",
   "execution_count": null,
   "id": "997d3fc4-c1c4-4bd3-8d96-26e832f67104",
   "metadata": {},
   "outputs": [],
   "source": []
  },
  {
   "cell_type": "code",
   "execution_count": null,
   "id": "3d640ce2-1e8a-4bcb-920e-ea01941fa06d",
   "metadata": {},
   "outputs": [],
   "source": []
  },
  {
   "cell_type": "code",
   "execution_count": null,
   "id": "4f307e73-92b5-4f46-b784-2406aebb7919",
   "metadata": {},
   "outputs": [],
   "source": []
  },
  {
   "cell_type": "code",
   "execution_count": null,
   "id": "1028db4f-c85f-4719-b60e-0a6b79901c2f",
   "metadata": {},
   "outputs": [],
   "source": []
  },
  {
   "cell_type": "code",
   "execution_count": null,
   "id": "6321578a-3bbc-4781-abc3-dafebe6a3c4f",
   "metadata": {},
   "outputs": [],
   "source": []
  },
  {
   "cell_type": "code",
   "execution_count": null,
   "id": "48b21fec-b059-482d-8c79-a9b2ab33316c",
   "metadata": {},
   "outputs": [],
   "source": []
  },
  {
   "cell_type": "code",
   "execution_count": null,
   "id": "ad9fa2da-c0e2-4990-829d-f3caac41fe59",
   "metadata": {},
   "outputs": [],
   "source": []
  },
  {
   "cell_type": "code",
   "execution_count": null,
   "id": "14b1ab5a-73f5-4527-9296-d8b127e99c67",
   "metadata": {},
   "outputs": [],
   "source": []
  },
  {
   "cell_type": "code",
   "execution_count": null,
   "id": "bca9c796-0b75-4ad0-8cb4-c0ec991a3534",
   "metadata": {},
   "outputs": [],
   "source": []
  },
  {
   "cell_type": "code",
   "execution_count": null,
   "id": "da6eb1b5-a813-4be4-8169-b2dfc480d408",
   "metadata": {},
   "outputs": [],
   "source": []
  },
  {
   "cell_type": "code",
   "execution_count": null,
   "id": "f067badb-2d0d-4c81-975a-ece3271387e8",
   "metadata": {},
   "outputs": [],
   "source": []
  },
  {
   "cell_type": "code",
   "execution_count": null,
   "id": "02bcb347-bf2d-4f57-a7de-915f6f91c600",
   "metadata": {},
   "outputs": [],
   "source": []
  },
  {
   "cell_type": "code",
   "execution_count": null,
   "id": "41c525fb-a9d5-4d12-9f1c-6fb66dfa8b3c",
   "metadata": {},
   "outputs": [],
   "source": []
  },
  {
   "cell_type": "code",
   "execution_count": null,
   "id": "4eb58287-c12a-489d-a1f2-6949575b5d56",
   "metadata": {},
   "outputs": [],
   "source": []
  },
  {
   "cell_type": "code",
   "execution_count": null,
   "id": "c7b6c97c-f0cd-4c89-a3d6-1fde867d8027",
   "metadata": {},
   "outputs": [],
   "source": []
  },
  {
   "cell_type": "code",
   "execution_count": null,
   "id": "85827672-4c3a-4f00-a973-d18f4d20bcb6",
   "metadata": {},
   "outputs": [],
   "source": []
  },
  {
   "cell_type": "code",
   "execution_count": null,
   "id": "8a116715-cef5-42f7-a453-d35c9f0a70e2",
   "metadata": {},
   "outputs": [],
   "source": []
  },
  {
   "cell_type": "code",
   "execution_count": null,
   "id": "92a677cd-3fd4-4274-b003-7ada0855d72c",
   "metadata": {},
   "outputs": [],
   "source": []
  },
  {
   "cell_type": "code",
   "execution_count": null,
   "id": "e9c6fa95-6a32-43b1-bfdc-6690d31c850f",
   "metadata": {},
   "outputs": [],
   "source": []
  },
  {
   "cell_type": "code",
   "execution_count": null,
   "id": "bab7c42d-a7f5-42c7-a724-632622be4c58",
   "metadata": {},
   "outputs": [],
   "source": []
  },
  {
   "cell_type": "code",
   "execution_count": null,
   "id": "f9fb0076-76b8-49c1-a7f4-6df89f826005",
   "metadata": {},
   "outputs": [],
   "source": []
  },
  {
   "cell_type": "code",
   "execution_count": null,
   "id": "75afcf59-e417-4ce8-b037-4ab6112f7e67",
   "metadata": {},
   "outputs": [],
   "source": []
  },
  {
   "cell_type": "code",
   "execution_count": null,
   "id": "bb48759b-af15-4de7-9d4e-4bfbc5550d29",
   "metadata": {},
   "outputs": [],
   "source": []
  },
  {
   "cell_type": "code",
   "execution_count": null,
   "id": "aec80746-973f-4760-9262-43515d554aa6",
   "metadata": {},
   "outputs": [],
   "source": []
  },
  {
   "cell_type": "code",
   "execution_count": null,
   "id": "5829cf05-8e3e-4079-9a0f-1e7c26fd4403",
   "metadata": {},
   "outputs": [],
   "source": []
  },
  {
   "cell_type": "code",
   "execution_count": null,
   "id": "d8dbf483-b1f0-47a8-8096-55575f7b4877",
   "metadata": {},
   "outputs": [],
   "source": []
  },
  {
   "cell_type": "code",
   "execution_count": null,
   "id": "f73bfde2-f15a-4d1c-bb25-7cbf3ff1dffc",
   "metadata": {},
   "outputs": [],
   "source": []
  },
  {
   "cell_type": "code",
   "execution_count": null,
   "id": "93928ca4-b19f-4050-a159-c263f81f06c4",
   "metadata": {},
   "outputs": [],
   "source": []
  },
  {
   "cell_type": "code",
   "execution_count": null,
   "id": "19edae47-81cf-4138-bb5d-6db9ec9324bf",
   "metadata": {},
   "outputs": [],
   "source": []
  },
  {
   "cell_type": "code",
   "execution_count": null,
   "id": "815bdd16-f8c0-47da-be16-76d448ce2e64",
   "metadata": {},
   "outputs": [],
   "source": []
  },
  {
   "cell_type": "code",
   "execution_count": null,
   "id": "df5e9d20-71f5-4520-9d55-24d70b19a2c7",
   "metadata": {},
   "outputs": [],
   "source": []
  },
  {
   "cell_type": "code",
   "execution_count": null,
   "id": "746b8677-b6ed-4828-bb7c-9b1b48694fcc",
   "metadata": {},
   "outputs": [],
   "source": []
  },
  {
   "cell_type": "code",
   "execution_count": null,
   "id": "bddf38dc-228f-46ac-9276-dc9aaf91f15d",
   "metadata": {},
   "outputs": [],
   "source": []
  },
  {
   "cell_type": "code",
   "execution_count": null,
   "id": "dedfebed-5d1e-4b60-b9d9-6112b686fe41",
   "metadata": {},
   "outputs": [],
   "source": []
  }
 ],
 "metadata": {
  "kernelspec": {
   "display_name": "Python [conda env:base] *",
   "language": "python",
   "name": "conda-base-py"
  },
  "language_info": {
   "codemirror_mode": {
    "name": "ipython",
    "version": 3
   },
   "file_extension": ".py",
   "mimetype": "text/x-python",
   "name": "python",
   "nbconvert_exporter": "python",
   "pygments_lexer": "ipython3",
   "version": "3.13.5"
  }
 },
 "nbformat": 4,
 "nbformat_minor": 5
}
