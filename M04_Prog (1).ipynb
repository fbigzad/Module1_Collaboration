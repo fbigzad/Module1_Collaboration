{
 "cells": [
  {
   "cell_type": "code",
   "execution_count": 3,
   "id": "16c7005a-8fa1-4ac4-8f07-7bf35a4239fd",
   "metadata": {},
   "outputs": [
    {
     "name": "stdout",
     "output_type": "stream",
     "text": [
      " Open 9-5 daily\n"
     ]
    }
   ],
   "source": [
    "#4.1\n",
    "import sys\n",
    "sys.path.append(r\"C:\\PPython\")\n",
    "\n",
    "import zoo\n",
    "zoo.hours()"
   ]
  },
  {
   "cell_type": "code",
   "execution_count": 4,
   "id": "50ddd255-2fe5-47e6-8cd2-385c16b60a98",
   "metadata": {},
   "outputs": [
    {
     "name": "stdout",
     "output_type": "stream",
     "text": [
      " Open 9-5 daily\n"
     ]
    }
   ],
   "source": [
    "#4.2\n",
    "import zoo as managerie\n",
    "managerie.hours()"
   ]
  },
  {
   "cell_type": "code",
   "execution_count": 12,
   "id": "3f58099c-45ab-42d0-bf0b-243e9b05e2f5",
   "metadata": {},
   "outputs": [
    {
     "name": "stdout",
     "output_type": "stream",
     "text": [
      "Removed existing database: C:\\PPython\\books.db\n",
      "Database 'C:\\PPython\\books.db' and table 'book' created successfully.\n",
      "Data from 'C:\\PPython\\books2.csv' inserted into 'book' table successfully.\n",
      "\n",
      "16.6 - Titles in alphabetical order (sqlite3):\n",
      "- Perdido Street Station\n",
      "- Small Gods\n",
      "- The Spellman Files\n",
      "- The Weirdstone of Brisingamen\n",
      "- Thud!\n",
      "\n",
      "--------------------------------------------------\n",
      "\n",
      "16.7 - All columns ordered by year (sqlite3):\n",
      "- 1960: The Weirdstone of Brisingamen — Alan Garner\n",
      "- 1992: Small Gods — Terry Pratchett\n",
      "- 2000: Perdido Street Station — China Miéville\n",
      "- 2005: Thud! — Terry Pratchett\n",
      "- 2007: The Spellman Files — Lisa Lutz\n",
      "\n",
      "--------------------------------------------------\n",
      "\n",
      "16.8 - Titles in alphabetical order (SQLAlchemy):\n",
      "- Perdido Street Station\n",
      "- Small Gods\n",
      "- The Spellman Files\n",
      "- The Weirdstone of Brisingamen\n",
      "- Thud!\n"
     ]
    }
   ],
   "source": [
    "#16.8\n",
    "import sqlite3\n",
    "import csv\n",
    "import os\n",
    "from sqlalchemy import create_engine, text\n",
    "\n",
    "DB_FILE = r\"C:\\PPython\\books.db\"\n",
    "CSV_FILE = r\"C:\\PPython\\books2.csv\"\n",
    "\n",
    "if os.path.exists(DB_FILE):\n",
    "    os.remove(DB_FILE)\n",
    "    print(f\"Removed existing database: {DB_FILE}\")\n",
    "\n",
    "conn = sqlite3.connect(DB_FILE)\n",
    "curs = conn.cursor()\n",
    "curs.execute('''\n",
    "    CREATE TABLE book (\n",
    "        title TEXT,\n",
    "        author TEXT,\n",
    "        year INTEGER\n",
    "    )\n",
    "''')\n",
    "print(f\"Database '{DB_FILE}' and table 'book' created successfully.\")\n",
    "\n",
    "ins_str = 'INSERT INTO book (title, author, year) VALUES (?, ?, ?)'\n",
    "with open(CSV_FILE, 'r', encoding='utf-8') as infile:\n",
    "    books = csv.DictReader(infile)\n",
    "    for book_row in books:\n",
    "        curs.execute(ins_str, (book_row['title'], book_row['author'], int(book_row['year'])))\n",
    "\n",
    "conn.commit()\n",
    "print(f\"Data from '{CSV_FILE}' inserted into 'book' table successfully.\\n\")\n",
    "\n",
    "print(\"16.6 - Titles in alphabetical order (sqlite3):\")\n",
    "for (title,) in curs.execute('SELECT title FROM book ORDER BY title ASC'):\n",
    "    print(f\"- {title}\")\n",
    "\n",
    "print(\"\\n\" + \"-\"*50 + \"\\n\")\n",
    "\n",
    "print(\"16.7 - All columns ordered by year (sqlite3):\")\n",
    "for title, author, year in curs.execute('SELECT title, author, year FROM book ORDER BY year ASC'):\n",
    "    print(f\"- {year}: {title} — {author}\")\n",
    "\n",
    "curs.close()\n",
    "conn.close()\n",
    "\n",
    "print(\"\\n\" + \"-\"*50 + \"\\n\")\n",
    "\n",
    "engine = create_engine(f\"sqlite:///{DB_FILE}\")\n",
    "\n",
    "with engine.connect() as conn:\n",
    "    result = conn.execute(text(\"SELECT title FROM book ORDER BY title ASC\"))\n",
    "    print(\"16.8 - Titles in alphabetical order (SQLAlchemy):\")\n",
    "    for row in result:\n",
    "        print(f\"- {row.title}\")\n"
   ]
  },
  {
   "cell_type": "code",
   "execution_count": null,
   "id": "f6f03479-be4b-4bec-aaf0-ca526fa4d209",
   "metadata": {},
   "outputs": [],
   "source": []
  },
  {
   "cell_type": "code",
   "execution_count": null,
   "id": "19f5c9bf-0c89-48f3-8405-6d6e1612294d",
   "metadata": {},
   "outputs": [],
   "source": []
  },
  {
   "cell_type": "code",
   "execution_count": null,
   "id": "a6fd86f8-4d11-4813-a4bd-0e7353c0c2b7",
   "metadata": {},
   "outputs": [],
   "source": []
  },
  {
   "cell_type": "code",
   "execution_count": null,
   "id": "32a21c1e-563c-4a87-912d-42139fa88b8e",
   "metadata": {},
   "outputs": [],
   "source": []
  },
  {
   "cell_type": "code",
   "execution_count": null,
   "id": "3d7218a6-8119-4432-be08-8dc13995f514",
   "metadata": {},
   "outputs": [],
   "source": []
  },
  {
   "cell_type": "code",
   "execution_count": null,
   "id": "ca542327-8981-4470-b36a-e35c1804ac94",
   "metadata": {},
   "outputs": [],
   "source": []
  },
  {
   "cell_type": "code",
   "execution_count": null,
   "id": "3e9d7e6f-0246-435f-84d3-0b495bb58d46",
   "metadata": {},
   "outputs": [],
   "source": []
  },
  {
   "cell_type": "code",
   "execution_count": null,
   "id": "a56ebccf-eded-41eb-ad98-7da916d5a3ef",
   "metadata": {},
   "outputs": [],
   "source": []
  },
  {
   "cell_type": "code",
   "execution_count": null,
   "id": "228a20d4-945b-4aec-b096-741b44aca778",
   "metadata": {},
   "outputs": [],
   "source": []
  },
  {
   "cell_type": "code",
   "execution_count": null,
   "id": "f3000e4c-a52d-4880-9288-0439a803d463",
   "metadata": {},
   "outputs": [],
   "source": []
  },
  {
   "cell_type": "code",
   "execution_count": null,
   "id": "17da405c-2c8d-49a9-93c8-44ad96463081",
   "metadata": {},
   "outputs": [],
   "source": []
  },
  {
   "cell_type": "code",
   "execution_count": null,
   "id": "864fcc92-d192-44fb-8dc4-ed8885c20e65",
   "metadata": {},
   "outputs": [],
   "source": []
  }
 ],
 "metadata": {
  "kernelspec": {
   "display_name": "Python [conda env:base] *",
   "language": "python",
   "name": "conda-base-py"
  },
  "language_info": {
   "codemirror_mode": {
    "name": "ipython",
    "version": 3
   },
   "file_extension": ".py",
   "mimetype": "text/x-python",
   "name": "python",
   "nbconvert_exporter": "python",
   "pygments_lexer": "ipython3",
   "version": "3.13.5"
  }
 },
 "nbformat": 4,
 "nbformat_minor": 5
}
