{
 "cells": [
  {
   "cell_type": "code",
   "execution_count": 1,
   "id": "526015bc-6ac4-45a8-b0c5-71316823de4f",
   "metadata": {},
   "outputs": [],
   "source": [
    "#13.1\n",
    "from datetime import date\n",
    "today = date.today()\n",
    "with open(\"today.txt\", \"w\") as file:\n",
    "    file.write(str(today))"
   ]
  },
  {
   "cell_type": "code",
   "execution_count": 2,
   "id": "bd2d1870-e827-4390-acd6-244963df41bd",
   "metadata": {},
   "outputs": [
    {
     "name": "stdout",
     "output_type": "stream",
     "text": [
      "2025-10-06\n"
     ]
    }
   ],
   "source": [
    "#13.2\n",
    "with open(\"today.txt\", \"r\") as file:\n",
    "    today_string = file.read()\n",
    "print(today_string)"
   ]
  },
  {
   "cell_type": "code",
   "execution_count": null,
   "id": "8a3c543e-50bf-4904-ae97-9c6cfcfff6c6",
   "metadata": {},
   "outputs": [],
   "source": []
  },
  {
   "cell_type": "code",
   "execution_count": 3,
   "id": "5b7e9268-eb2e-4a70-b81e-1b0c48c59566",
   "metadata": {},
   "outputs": [
    {
     "name": "stdout",
     "output_type": "stream",
     "text": [
      "2025-10-06\n"
     ]
    }
   ],
   "source": [
    "#13.3\n",
    "from datetime import datetime\n",
    "\n",
    "parsed_date = datetime.strptime(today_string, \"%Y-%m-%d\").date()\n",
    "print(parsed_date)"
   ]
  },
  {
   "cell_type": "code",
   "execution_count": null,
   "id": "40fcf7aa-a316-4b09-9cac-87387bdf1138",
   "metadata": {},
   "outputs": [],
   "source": []
  },
  {
   "cell_type": "code",
   "execution_count": null,
   "id": "9795ce34-4e6b-4fc5-a0af-2d2ce91b0d53",
   "metadata": {},
   "outputs": [],
   "source": [
    "#15.1\n",
    "import multiprocessing as mp\n",
    "import time\n",
    "import random\n",
    "from datetime import datetime\n",
    "\n",
    "def show_time(num):\n",
    "    wait = random.random()  # Wait between 0 and 1 second\n",
    "    time.sleep(wait)\n",
    "    return f\"Process {num} waited {wait:.2f} seconds — Current time: {datetime.now()}\"\n",
    "\n",
    "def run_processes():\n",
    "    # Create a pool of 3 processes\n",
    "    with mp.Pool(3) as pool:\n",
    "        # Map the function to 3 \"process numbers\"\n",
    "        results = pool.map(show_time, range(1, 4))\n",
    "    \n",
    "    # Print results in the main process (Jupyter-friendly)\n",
    "    for r in results:\n",
    "        print(r)\n",
    "    print(\"All processes completed.\")\n",
    "\n",
    "# Call the function\n",
    "run_processes()\n"
   ]
  },
  {
   "cell_type": "code",
   "execution_count": null,
   "id": "6635059b-9147-468d-8c8f-3b63ab2b01c8",
   "metadata": {},
   "outputs": [],
   "source": []
  },
  {
   "cell_type": "code",
   "execution_count": null,
   "id": "2f6068cb-24d4-4b1b-947e-2ec9f8a73256",
   "metadata": {},
   "outputs": [],
   "source": []
  },
  {
   "cell_type": "code",
   "execution_count": null,
   "id": "eaeea971-a798-4bd2-8dc3-a2aaf6b791d0",
   "metadata": {},
   "outputs": [],
   "source": []
  }
 ],
 "metadata": {
  "kernelspec": {
   "display_name": "Python 3 (ipykernel)",
   "language": "python",
   "name": "python3"
  },
  "language_info": {
   "codemirror_mode": {
    "name": "ipython",
    "version": 3
   },
   "file_extension": ".py",
   "mimetype": "text/x-python",
   "name": "python",
   "nbconvert_exporter": "python",
   "pygments_lexer": "ipython3",
   "version": "3.13.7"
  }
 },
 "nbformat": 4,
 "nbformat_minor": 5
}
