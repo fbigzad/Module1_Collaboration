{
 "cells": [
  {
   "cell_type": "code",
   "execution_count": null,
   "id": "7473161d-2db3-4ec8-a32b-88562657ea9c",
   "metadata": {},
   "outputs": [],
   "source": [
    "# 7.4 Make a list\n",
    "things = [\"mozzarella\", \"cinderella\", \"salmonella\"]\n",
    "print(\"7.4:\", things)\n",
    "\n",
    "# 7.5 Capitalize the element that refers to a person\n",
    "things[1] = things[1].capitalize()\n",
    "print(\"7.5:\", things)\n",
    "\n",
    "# 7.6 Make the cheesy element uppercase\n",
    "things[0] = things[0].upper()\n",
    "print(\"7.6:\", things)\n",
    "\n",
    "# 7.7 Delete the disease element\n",
    "del things[2]\n",
    "print(\"7.7:\", things)"
   ]
  },
  {
   "cell_type": "code",
   "execution_count": 29,
   "id": "c17edbbc-c33e-4213-af70-c5be62ad789e",
   "metadata": {},
   "outputs": [],
   "source": [
    "#9.1\n",
    "def good():\n",
    "    return ['Harry', 'Ron' , 'Hermione']\n",
    "print(good())"
   ]
  },
  {
   "cell_type": "code",
   "execution_count": 27,
   "id": "612e7e0a-58bb-49f9-9a2d-85dc7a2c9938",
   "metadata": {},
   "outputs": [
    {
     "name": "stdout",
     "output_type": "stream",
     "text": [
      "5\n"
     ]
    }
   ],
   "source": [
    "#9.2\n",
    "def get_odds():\n",
    "    for i in range(10):\n",
    "        if i % 2 !=0:\n",
    "            yield i\n",
    "count=0\n",
    "for value in get_odds():\n",
    "    count +=1\n",
    "    if count == 3:\n",
    "        print(value)\n",
    "        break\n",
    "    "
   ]
  },
  {
   "cell_type": "code",
   "execution_count": null,
   "id": "fd35dba7-70a3-4a06-b009-d899dfdd2aef",
   "metadata": {},
   "outputs": [],
   "source": []
  },
  {
   "cell_type": "code",
   "execution_count": null,
   "id": "67c215f3-75b3-40e5-8402-7dc080ada774",
   "metadata": {},
   "outputs": [],
   "source": []
  },
  {
   "cell_type": "code",
   "execution_count": null,
   "id": "05a98bef-91a8-4ca9-b03f-e1b1a790b628",
   "metadata": {},
   "outputs": [],
   "source": []
  },
  {
   "cell_type": "code",
   "execution_count": null,
   "id": "35196a2d-f175-42a5-a83e-a9a4fce78c93",
   "metadata": {},
   "outputs": [],
   "source": []
  },
  {
   "cell_type": "code",
   "execution_count": null,
   "id": "63e32c52-c44e-4688-943e-441df4366cd9",
   "metadata": {},
   "outputs": [],
   "source": []
  },
  {
   "cell_type": "code",
   "execution_count": null,
   "id": "6f268daa-8293-44de-92dc-018b4ea6330b",
   "metadata": {},
   "outputs": [],
   "source": []
  },
  {
   "cell_type": "code",
   "execution_count": null,
   "id": "a01f092c-15d7-49b3-bb9b-46cfcc9a62d1",
   "metadata": {},
   "outputs": [],
   "source": []
  },
  {
   "cell_type": "code",
   "execution_count": null,
   "id": "a3d62c49-f6ec-4be1-ad69-edacf234df03",
   "metadata": {},
   "outputs": [],
   "source": []
  },
  {
   "cell_type": "code",
   "execution_count": null,
   "id": "81de3aa7-b1cf-4732-81e7-f02e415446ea",
   "metadata": {},
   "outputs": [],
   "source": []
  },
  {
   "cell_type": "code",
   "execution_count": null,
   "id": "6ae1045c-fd81-494e-9a73-2a0e4569db4b",
   "metadata": {},
   "outputs": [],
   "source": []
  },
  {
   "cell_type": "code",
   "execution_count": null,
   "id": "c647aba7-7d75-4bb6-ab1f-739c10356fcf",
   "metadata": {},
   "outputs": [],
   "source": []
  },
  {
   "cell_type": "code",
   "execution_count": null,
   "id": "17636f6f-b5d7-4569-a85c-832dcc612805",
   "metadata": {},
   "outputs": [],
   "source": []
  },
  {
   "cell_type": "code",
   "execution_count": null,
   "id": "00469491-b6a7-4f68-bdbe-2c6f4e234cb5",
   "metadata": {},
   "outputs": [],
   "source": []
  },
  {
   "cell_type": "code",
   "execution_count": null,
   "id": "76a25046-98d8-4464-9f4b-39df9d2509c9",
   "metadata": {},
   "outputs": [],
   "source": []
  },
  {
   "cell_type": "code",
   "execution_count": null,
   "id": "d4c8f131-1efc-428f-a0c5-d509756cae81",
   "metadata": {},
   "outputs": [],
   "source": []
  },
  {
   "cell_type": "code",
   "execution_count": null,
   "id": "e2a93bcd-d48b-427a-b816-92864a1e0536",
   "metadata": {},
   "outputs": [],
   "source": []
  }
 ],
 "metadata": {
  "kernelspec": {
   "display_name": "Python [conda env:base] *",
   "language": "python",
   "name": "conda-base-py"
  },
  "language_info": {
   "codemirror_mode": {
    "name": "ipython",
    "version": 3
   },
   "file_extension": ".py",
   "mimetype": "text/x-python",
   "name": "python",
   "nbconvert_exporter": "python",
   "pygments_lexer": "ipython3",
   "version": "3.13.5"
  }
 },
 "nbformat": 4,
 "nbformat_minor": 5
}
