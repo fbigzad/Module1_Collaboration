{
 "cells": [
  {
   "cell_type": "code",
   "execution_count": 1,
   "id": "59840246-9961-4fa2-a7f2-de115ed64c5c",
   "metadata": {},
   "outputs": [
    {
     "name": "stdin",
     "output_type": "stream",
     "text": [
      "Enter the student's last name (or 'ZZZ' to quit):  bigzad\n",
      "Enter the student's first name:  feda\n",
      "Enter the student's GPA:  3.7\n"
     ]
    },
    {
     "name": "stdout",
     "output_type": "stream",
     "text": [
      "The Student has made the Dean's List!\n"
     ]
    }
   ],
   "source": [
    "#Name: Feda Bigzad\n",
    "#File Name: GPA for qualification\n",
    "# This app takes the Student's lastname, fname and GPA and determines the qualification of student based on their GPA\n",
    "while True:\n",
    "    # Ask for last name inside the loop\n",
    "    last_name = input(\"Enter the student's last name (or 'ZZZ' to quit): \")\n",
    "    # Using Sentinel Value to exit from loop (ZZZ)\n",
    "    if last_name.upper() == \"ZZZ\":\n",
    "        print(\"Quit!! Exiting the program.\")\n",
    "        break\n",
    "    \n",
    "    # Ask for first name and GPA\n",
    "    first_name = input(\"Enter the student's first name: \")\n",
    "    gpa = float(input(\"Enter the student's GPA: \"))\n",
    "    # Check Dean's List or Honor Roll\n",
    "    if gpa >= 3.5:\n",
    "        print(\"The Student has made the Dean's List!\")\n",
    "        break\n",
    "    elif gpa >= 3.25:\n",
    "        print(\"The Student has made the Honor Roll!\")\n",
    "        break\n",
    "   \n",
    "    "
   ]
  },
  {
   "cell_type": "code",
   "execution_count": null,
   "id": "e70ef898-0017-4fd5-826f-540717f58621",
   "metadata": {},
   "outputs": [],
   "source": []
  },
  {
   "cell_type": "code",
   "execution_count": null,
   "id": "356daf24-e1ad-48c5-a41c-1f42f9f5a1ca",
   "metadata": {},
   "outputs": [],
   "source": []
  },
  {
   "cell_type": "code",
   "execution_count": null,
   "id": "08a2ba77-7bd6-4f40-896b-9d6fcdcc0935",
   "metadata": {},
   "outputs": [],
   "source": []
  },
  {
   "cell_type": "code",
   "execution_count": null,
   "id": "722e2236-cdbe-4659-8dda-bab09ca0ec5c",
   "metadata": {},
   "outputs": [],
   "source": []
  },
  {
   "cell_type": "code",
   "execution_count": null,
   "id": "5bd33e1c-ee81-451f-ae6b-6051694ceeca",
   "metadata": {},
   "outputs": [],
   "source": []
  },
  {
   "cell_type": "code",
   "execution_count": null,
   "id": "bd3b2400-7862-4d3e-b6f6-66d99eb4647e",
   "metadata": {},
   "outputs": [],
   "source": []
  },
  {
   "cell_type": "code",
   "execution_count": null,
   "id": "8a088bb3-641f-4053-9ce2-88e34a2e349a",
   "metadata": {},
   "outputs": [],
   "source": []
  },
  {
   "cell_type": "code",
   "execution_count": null,
   "id": "e38dcd61-3c8a-4903-8320-d2be7427c61a",
   "metadata": {},
   "outputs": [],
   "source": []
  },
  {
   "cell_type": "code",
   "execution_count": null,
   "id": "8067902f-b396-415f-84de-805f60e529d8",
   "metadata": {},
   "outputs": [],
   "source": []
  },
  {
   "cell_type": "code",
   "execution_count": null,
   "id": "ec76af47-6549-483b-bc9b-a566af2a2147",
   "metadata": {},
   "outputs": [],
   "source": []
  },
  {
   "cell_type": "code",
   "execution_count": null,
   "id": "b992604b-73e2-4f3b-bc5d-1954d996ca47",
   "metadata": {},
   "outputs": [],
   "source": []
  },
  {
   "cell_type": "code",
   "execution_count": null,
   "id": "24e5f7db-59b2-4cf5-b56f-c910aef3199f",
   "metadata": {},
   "outputs": [],
   "source": []
  },
  {
   "cell_type": "code",
   "execution_count": null,
   "id": "49f49512-e31e-4d03-947c-836d609f6f7b",
   "metadata": {},
   "outputs": [],
   "source": []
  },
  {
   "cell_type": "code",
   "execution_count": null,
   "id": "364bf7fc-2cfe-4721-bd1c-4c2afdefeb50",
   "metadata": {},
   "outputs": [],
   "source": []
  },
  {
   "cell_type": "code",
   "execution_count": null,
   "id": "4e775b78-7620-4891-b71e-c7f029c408b9",
   "metadata": {},
   "outputs": [],
   "source": []
  },
  {
   "cell_type": "code",
   "execution_count": null,
   "id": "f4472788-b84b-4adc-a794-b35dbc506f8d",
   "metadata": {},
   "outputs": [],
   "source": []
  },
  {
   "cell_type": "code",
   "execution_count": null,
   "id": "60c9444d-48ae-44b8-bee7-a9639383b246",
   "metadata": {},
   "outputs": [],
   "source": []
  },
  {
   "cell_type": "code",
   "execution_count": null,
   "id": "b06a62f3-e594-4b2c-8647-ce7fd9e716b5",
   "metadata": {},
   "outputs": [],
   "source": []
  },
  {
   "cell_type": "code",
   "execution_count": null,
   "id": "ed46d52f-839b-4971-b506-1db221a0c265",
   "metadata": {},
   "outputs": [],
   "source": []
  },
  {
   "cell_type": "code",
   "execution_count": null,
   "id": "efe16091-e0aa-4d2e-a3b8-e7e67fa125cf",
   "metadata": {},
   "outputs": [],
   "source": []
  },
  {
   "cell_type": "code",
   "execution_count": null,
   "id": "d22e009c-eed7-4d9f-bdf4-7e9b0aafbd0c",
   "metadata": {},
   "outputs": [],
   "source": []
  },
  {
   "cell_type": "code",
   "execution_count": null,
   "id": "df8bead6-64aa-4b32-9502-932ff194f5c3",
   "metadata": {},
   "outputs": [],
   "source": []
  },
  {
   "cell_type": "code",
   "execution_count": null,
   "id": "debb3525-e510-459f-8623-07508bd64828",
   "metadata": {},
   "outputs": [],
   "source": []
  },
  {
   "cell_type": "code",
   "execution_count": null,
   "id": "1b24dc02-7f9b-4f53-a043-b004b7b210e8",
   "metadata": {},
   "outputs": [],
   "source": []
  },
  {
   "cell_type": "code",
   "execution_count": null,
   "id": "6b568650-fd8c-411c-9f0c-86ac540ebb95",
   "metadata": {},
   "outputs": [],
   "source": []
  },
  {
   "cell_type": "code",
   "execution_count": null,
   "id": "1a06a10d-347a-47b8-a4e9-e0a75feb159a",
   "metadata": {},
   "outputs": [],
   "source": []
  },
  {
   "cell_type": "code",
   "execution_count": null,
   "id": "8b2100c4-bc84-473c-8920-54034cd69fb6",
   "metadata": {},
   "outputs": [],
   "source": []
  },
  {
   "cell_type": "code",
   "execution_count": null,
   "id": "4e579b51-1b44-48eb-b42c-c144dc6118ae",
   "metadata": {},
   "outputs": [],
   "source": []
  },
  {
   "cell_type": "code",
   "execution_count": null,
   "id": "12395b29-b0a1-426f-93bf-a5dc4b0952ed",
   "metadata": {},
   "outputs": [],
   "source": []
  },
  {
   "cell_type": "code",
   "execution_count": null,
   "id": "c01db285-bc33-4240-bcf7-7c38f4b6cbde",
   "metadata": {},
   "outputs": [],
   "source": []
  },
  {
   "cell_type": "code",
   "execution_count": null,
   "id": "8d6e3305-6e59-4581-bd17-8f791e44c8ff",
   "metadata": {},
   "outputs": [],
   "source": []
  },
  {
   "cell_type": "code",
   "execution_count": null,
   "id": "f1613fe2-fdf4-4807-9ddc-5a5c858acd4b",
   "metadata": {},
   "outputs": [],
   "source": []
  },
  {
   "cell_type": "code",
   "execution_count": null,
   "id": "abbc1c40-ad6b-4025-944d-420e475a81c9",
   "metadata": {},
   "outputs": [],
   "source": []
  },
  {
   "cell_type": "code",
   "execution_count": null,
   "id": "6dac8f16-3244-492f-b02a-4e37d3438e50",
   "metadata": {},
   "outputs": [],
   "source": []
  },
  {
   "cell_type": "code",
   "execution_count": null,
   "id": "b4d4a2eb-63ea-4874-aa8a-5c86ca301e96",
   "metadata": {},
   "outputs": [],
   "source": []
  },
  {
   "cell_type": "code",
   "execution_count": null,
   "id": "8840bef1-8455-458e-8657-2486da5b57da",
   "metadata": {},
   "outputs": [],
   "source": []
  },
  {
   "cell_type": "code",
   "execution_count": null,
   "id": "15aa3139-5f29-4360-8907-6c601e3028b6",
   "metadata": {},
   "outputs": [],
   "source": []
  },
  {
   "cell_type": "code",
   "execution_count": null,
   "id": "4ac4edb4-d14e-45be-b4fe-44be95fcf9b4",
   "metadata": {},
   "outputs": [],
   "source": []
  },
  {
   "cell_type": "code",
   "execution_count": null,
   "id": "6c5d37fe-ebc9-47d8-bd72-d9111b74d5d6",
   "metadata": {},
   "outputs": [],
   "source": []
  },
  {
   "cell_type": "code",
   "execution_count": null,
   "id": "f24089cd-2cf2-4ba4-86ac-0e3c1ff7f8d5",
   "metadata": {},
   "outputs": [],
   "source": []
  },
  {
   "cell_type": "code",
   "execution_count": null,
   "id": "0e570cda-6323-465e-a3f5-bc0d49c98cf4",
   "metadata": {},
   "outputs": [],
   "source": []
  },
  {
   "cell_type": "code",
   "execution_count": null,
   "id": "54786448-e135-4f9a-9269-adcf669fc0c1",
   "metadata": {},
   "outputs": [],
   "source": []
  },
  {
   "cell_type": "code",
   "execution_count": null,
   "id": "57257e66-5057-4bd2-a9c7-45f1834713dd",
   "metadata": {},
   "outputs": [],
   "source": []
  },
  {
   "cell_type": "code",
   "execution_count": null,
   "id": "3e071d1b-49b9-4050-8711-3770bdeaefde",
   "metadata": {},
   "outputs": [],
   "source": []
  },
  {
   "cell_type": "code",
   "execution_count": null,
   "id": "d43b46ef-b1cf-493d-84e6-6d49ec5412e5",
   "metadata": {},
   "outputs": [],
   "source": []
  },
  {
   "cell_type": "code",
   "execution_count": null,
   "id": "7f68bd05-768f-4f1b-82b0-c04312301137",
   "metadata": {},
   "outputs": [],
   "source": []
  },
  {
   "cell_type": "code",
   "execution_count": null,
   "id": "b538fdd2-dc3f-460f-88e7-12d792912207",
   "metadata": {},
   "outputs": [],
   "source": []
  },
  {
   "cell_type": "code",
   "execution_count": null,
   "id": "53f377b6-3e93-417b-ba36-e39e4cb93776",
   "metadata": {},
   "outputs": [],
   "source": []
  },
  {
   "cell_type": "code",
   "execution_count": null,
   "id": "2b9080e0-4f85-4b08-b7fd-0b5ad833eddf",
   "metadata": {},
   "outputs": [],
   "source": []
  }
 ],
 "metadata": {
  "kernelspec": {
   "display_name": "Python [conda env:base] *",
   "language": "python",
   "name": "conda-base-py"
  },
  "language_info": {
   "codemirror_mode": {
    "name": "ipython",
    "version": 3
   },
   "file_extension": ".py",
   "mimetype": "text/x-python",
   "name": "python",
   "nbconvert_exporter": "python",
   "pygments_lexer": "ipython3",
   "version": "3.13.5"
  }
 },
 "nbformat": 4,
 "nbformat_minor": 5
}
