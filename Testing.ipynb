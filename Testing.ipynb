{
 "cells": [
  {
   "cell_type": "code",
   "execution_count": 1,
   "id": "984eddab-c908-4c53-85c2-3d515029c257",
   "metadata": {},
   "outputs": [
    {
     "ename": "SyntaxError",
     "evalue": "invalid syntax (1861969524.py, line 3)",
     "output_type": "error",
     "traceback": [
      "  \u001b[36mCell\u001b[39m\u001b[36m \u001b[39m\u001b[32mIn[1]\u001b[39m\u001b[32m, line 3\u001b[39m\n\u001b[31m    \u001b[39m\u001b[31mThis notebook demonstrates **unit testing in Python**.\u001b[39m\n         ^\n\u001b[31mSyntaxError\u001b[39m\u001b[31m:\u001b[39m invalid syntax\n"
     ]
    }
   ],
   "source": [
    "# Unit Testing Assignment\n",
    "\n",
    "This notebook demonstrates **unit testing in Python**.  \n",
    "\n",
    "We will:\n",
    "1. Define a simple function.\n",
    "2. Write tests for the function.\n",
    "3. Run the tests and display results.\n",
    "4. Describe what the results mean."
   ]
  },
  {
   "cell_type": "code",
   "execution_count": 4,
   "id": "1fcc1551-f972-436c-9861-5121a212ab79",
   "metadata": {},
   "outputs": [],
   "source": [
    "# Sample functions to test\n",
    "def add(a, b):\n",
    "   # \"\"\"Return the sum of two numbers.\"\"\"\n",
    "    return a + b\n",
    "\n",
    "def subtract(a, b):\n",
    "   # \"\"\"Return the difference of two numbers.\"\"\"\n",
    "    return a - b"
   ]
  },
  {
   "cell_type": "code",
   "execution_count": 5,
   "id": "e2288557-9e3a-4f1a-97f2-2c3472d64e83",
   "metadata": {},
   "outputs": [
    {
     "name": "stdout",
     "output_type": "stream",
     "text": [
      "All add() tests passed!\n",
      "All subtract() tests passed!\n"
     ]
    }
   ],
   "source": [
    "# Testing add function\n",
    "try:\n",
    "    assert add(2, 3) == 5\n",
    "    assert add(-1, 1) == 0\n",
    "    assert add(0, 0) == 0\n",
    "    print(\"All add() tests passed!\")\n",
    "except AssertionError:\n",
    "    print(\"add() test failed!\")\n",
    "\n",
    "# Testing subtract function\n",
    "try:\n",
    "    assert subtract(5, 3) == 2\n",
    "    assert subtract(0, 0) == 0\n",
    "    assert subtract(-2, -3) == 1\n",
    "    print(\"All subtract() tests passed!\")\n",
    "except AssertionError:\n",
    "    print(\"subtract() test failed!\")"
   ]
  },
  {
   "cell_type": "code",
   "execution_count": null,
   "id": "478236ec-4557-4c2c-9e27-bd35d7aa3291",
   "metadata": {},
   "outputs": [],
   "source": []
  },
  {
   "cell_type": "code",
   "execution_count": null,
   "id": "0f907802-d63f-4fc9-bd87-ade43f98ef56",
   "metadata": {},
   "outputs": [],
   "source": []
  },
  {
   "cell_type": "code",
   "execution_count": null,
   "id": "7f4ce078-c897-4a21-b885-923bea06514d",
   "metadata": {},
   "outputs": [],
   "source": []
  }
 ],
 "metadata": {
  "kernelspec": {
   "display_name": "Python 3 (ipykernel)",
   "language": "python",
   "name": "python3"
  },
  "language_info": {
   "codemirror_mode": {
    "name": "ipython",
    "version": 3
   },
   "file_extension": ".py",
   "mimetype": "text/x-python",
   "name": "python",
   "nbconvert_exporter": "python",
   "pygments_lexer": "ipython3",
   "version": "3.13.7"
  }
 },
 "nbformat": 4,
 "nbformat_minor": 5
}
